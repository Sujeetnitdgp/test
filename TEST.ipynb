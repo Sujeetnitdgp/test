{
 "cells": [
  {
   "cell_type": "code",
   "execution_count": 1,
   "id": "42d8cfe4-3683-48d6-9a39-b092ddd49811",
   "metadata": {},
   "outputs": [
    {
     "data": {
      "text/plain": [
       "8"
      ]
     },
     "execution_count": 1,
     "metadata": {},
     "output_type": "execute_result"
    }
   ],
   "source": [
    "nums=[2,4,5,8,11,6]\n",
    "nums[3]\n"
   ]
  },
  {
   "cell_type": "code",
   "execution_count": null,
   "id": "5e332536-d536-40fc-9776-4b5bce93cc55",
   "metadata": {},
   "outputs": [],
   "source": []
  }
 ],
 "metadata": {
  "kernelspec": {
   "display_name": "Python 3 (ipykernel)",
   "language": "python",
   "name": "python3"
  },
  "language_info": {
   "codemirror_mode": {
    "name": "ipython",
    "version": 3
   },
   "file_extension": ".py",
   "mimetype": "text/x-python",
   "name": "python",
   "nbconvert_exporter": "python",
   "pygments_lexer": "ipython3",
   "version": "3.12.4"
  }
 },
 "nbformat": 4,
 "nbformat_minor": 5
}
